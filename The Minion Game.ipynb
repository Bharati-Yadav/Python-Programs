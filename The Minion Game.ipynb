{
 "cells": [
  {
   "cell_type": "markdown",
   "id": "ac84f700",
   "metadata": {},
   "source": [
    "# The Minion Game"
   ]
  },
  {
   "cell_type": "code",
   "execution_count": 1,
   "id": "0754d084",
   "metadata": {},
   "outputs": [],
   "source": [
    "def minion_game(string):\n",
    "    # your code goes here\n",
    "    s = len(string)\n",
    "    con=0\n",
    "    vow = 0\n",
    "    \n",
    "    for i in range(s):\n",
    "        if string[i] in 'AEIOU':\n",
    "            vow = vow + (s-i)\n",
    "        else:\n",
    "            con = con + (s-i)\n",
    "            \n",
    "    if con > vow :\n",
    "        print(\"Stuart {}\".format(con))\n",
    "    elif con == vow :\n",
    "        print(\"Draw\")\n",
    "    else:\n",
    "        print(\"Kevin {}\".format(vow))  "
   ]
  },
  {
   "cell_type": "code",
   "execution_count": 2,
   "id": "d929e3a6",
   "metadata": {},
   "outputs": [
    {
     "name": "stdout",
     "output_type": "stream",
     "text": [
      "Stuart 21\n"
     ]
    }
   ],
   "source": [
    "minion_game('Banana')"
   ]
  },
  {
   "cell_type": "code",
   "execution_count": null,
   "id": "96ca4256",
   "metadata": {},
   "outputs": [],
   "source": []
  }
 ],
 "metadata": {
  "kernelspec": {
   "display_name": "Python 3 (ipykernel)",
   "language": "python",
   "name": "python3"
  },
  "language_info": {
   "codemirror_mode": {
    "name": "ipython",
    "version": 3
   },
   "file_extension": ".py",
   "mimetype": "text/x-python",
   "name": "python",
   "nbconvert_exporter": "python",
   "pygments_lexer": "ipython3",
   "version": "3.9.13"
  }
 },
 "nbformat": 4,
 "nbformat_minor": 5
}
