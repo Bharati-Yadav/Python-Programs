{
 "cells": [
  {
   "cell_type": "markdown",
   "id": "3fd2dbac",
   "metadata": {},
   "source": [
    "# merge the tools!"
   ]
  },
  {
   "cell_type": "code",
   "execution_count": 1,
   "id": "b67ccbf6",
   "metadata": {},
   "outputs": [],
   "source": [
    "def merge_the_tools(string, k):\n",
    "    # your code goes here\n",
    "    c = 0\n",
    "    s = ''\n",
    "    for i in string:\n",
    "        if i not in s:\n",
    "            s = s + i\n",
    "        \n",
    "        c += 1\n",
    "        if c==k:\n",
    "            print(s)\n",
    "            c = 0\n",
    "            s = ''    \n"
   ]
  },
  {
   "cell_type": "code",
   "execution_count": 2,
   "id": "053f1dba",
   "metadata": {},
   "outputs": [
    {
     "name": "stdout",
     "output_type": "stream",
     "text": [
      "AB\n",
      "CA\n",
      "AD\n"
     ]
    }
   ],
   "source": [
    "merge_the_tools('AABCAAADA',3)"
   ]
  },
  {
   "cell_type": "code",
   "execution_count": null,
   "id": "b7df310a",
   "metadata": {},
   "outputs": [],
   "source": []
  }
 ],
 "metadata": {
  "kernelspec": {
   "display_name": "Python 3 (ipykernel)",
   "language": "python",
   "name": "python3"
  },
  "language_info": {
   "codemirror_mode": {
    "name": "ipython",
    "version": 3
   },
   "file_extension": ".py",
   "mimetype": "text/x-python",
   "name": "python",
   "nbconvert_exporter": "python",
   "pygments_lexer": "ipython3",
   "version": "3.9.13"
  }
 },
 "nbformat": 4,
 "nbformat_minor": 5
}
